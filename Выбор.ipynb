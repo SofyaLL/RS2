{
 "cells": [
  {
   "cell_type": "code",
   "execution_count": 1,
   "id": "b25c00b2",
   "metadata": {},
   "outputs": [],
   "source": [
    "import os\n",
    "\n",
    "import numpy as np\n",
    "import pandas as pd\n",
    "pd.options.display.max_rows = 200\n",
    "pd.options.display.max_columns = 100\n",
    "pd.options.mode.chained_assignment = 'raise'  # forbid chained assignment to prevent implicit errors\n",
    "\n",
    "import matplotlib.pyplot as plt\n",
    "plt.rcParams[\"figure.figsize\"] = (7, 6)  # set default figure size\n",
    "\n",
    "import seaborn as sns\n",
    "sns.set(font_scale=1.1)  # increase default font scale and set seaborn's plot style\n",
    "\n",
    "from typing import List, Iterable"
   ]
  },
  {
   "cell_type": "code",
   "execution_count": 23,
   "id": "b9ff140d",
   "metadata": {},
   "outputs": [],
   "source": [
    "from sklearn.datasets import make_regression\n",
    "from sklearn.model_selection import train_test_split\n",
    "from sklearn.feature_selection import SelectKBest\n",
    "from sklearn.feature_selection import f_regression\n",
    "from sklearn.feature_selection import SelectKBest, SelectPercentile, f_classif, VarianceThreshold\n",
    "from matplotlib import pyplot\n"
   ]
  },
  {
   "cell_type": "code",
   "execution_count": 2,
   "id": "6eb4b5dc",
   "metadata": {},
   "outputs": [
    {
     "name": "stdout",
     "output_type": "stream",
     "text": [
      "data_root_dp: \"/Users/sonya/RS_School/\"\n",
      "reading from: \"/Users/sonya/RS_School/player_attributes.csv\"\n",
      "(183978, 42)\n"
     ]
    }
   ],
   "source": [
    "data_root_dp = os.path.join('/Users/sonya/RS_School/')  # change to yours path\n",
    "print(f'data_root_dp: \"{data_root_dp}\"')\n",
    "data_player_attributes_fp = os.path.join(data_root_dp, 'player_attributes.csv')\n",
    "print(f'reading from: \"{data_player_attributes_fp}\"')\n",
    "df = pd.read_csv(data_player_attributes_fp)\n",
    "print(df.shape)"
   ]
  },
  {
   "cell_type": "code",
   "execution_count": 6,
   "id": "95f62328",
   "metadata": {},
   "outputs": [
    {
     "name": "stdout",
     "output_type": "stream",
     "text": [
      "will drop following columns: ['id', 'player_fifa_api_id', 'preferred_foot', 'attacking_work_rate', 'defensive_work_rate']\n"
     ]
    },
    {
     "ename": "KeyError",
     "evalue": "\"['player_fifa_api_id', 'preferred_foot', 'attacking_work_rate', 'defensive_work_rate'] not found in axis\"",
     "output_type": "error",
     "traceback": [
      "\u001b[0;31m---------------------------------------------------------------------------\u001b[0m",
      "\u001b[0;31mKeyError\u001b[0m                                  Traceback (most recent call last)",
      "\u001b[0;32m/var/folders/wl/27ymcjln6px3tcfww0c_jg5c0000gn/T/ipykernel_42955/224730811.py\u001b[0m in \u001b[0;36m<module>\u001b[0;34m\u001b[0m\n\u001b[1;32m      9\u001b[0m \u001b[0mcols_to_drop\u001b[0m \u001b[0;34m=\u001b[0m \u001b[0mredundant_key_columns\u001b[0m \u001b[0;34m+\u001b[0m \u001b[0mcategorical_columns\u001b[0m\u001b[0;34m\u001b[0m\u001b[0;34m\u001b[0m\u001b[0m\n\u001b[1;32m     10\u001b[0m \u001b[0mprint\u001b[0m\u001b[0;34m(\u001b[0m\u001b[0;34mf'will drop following columns: {cols_to_drop}'\u001b[0m\u001b[0;34m)\u001b[0m\u001b[0;34m\u001b[0m\u001b[0;34m\u001b[0m\u001b[0m\n\u001b[0;32m---> 11\u001b[0;31m \u001b[0mdf\u001b[0m\u001b[0;34m.\u001b[0m\u001b[0mdrop\u001b[0m\u001b[0;34m(\u001b[0m\u001b[0mcolumns\u001b[0m\u001b[0;34m=\u001b[0m\u001b[0mcols_to_drop\u001b[0m\u001b[0;34m,\u001b[0m \u001b[0minplace\u001b[0m\u001b[0;34m=\u001b[0m\u001b[0;32mTrue\u001b[0m\u001b[0;34m)\u001b[0m\u001b[0;34m\u001b[0m\u001b[0;34m\u001b[0m\u001b[0m\n\u001b[0m\u001b[1;32m     12\u001b[0m \u001b[0;34m\u001b[0m\u001b[0m\n\u001b[1;32m     13\u001b[0m \u001b[0;31m# rename 'player_api_id' column to shorter one: 'id'.\u001b[0m\u001b[0;34m\u001b[0m\u001b[0;34m\u001b[0m\u001b[0;34m\u001b[0m\u001b[0m\n",
      "\u001b[0;32m~/Library/Python/3.8/lib/python/site-packages/pandas/util/_decorators.py\u001b[0m in \u001b[0;36mwrapper\u001b[0;34m(*args, **kwargs)\u001b[0m\n\u001b[1;32m    309\u001b[0m                     \u001b[0mstacklevel\u001b[0m\u001b[0;34m=\u001b[0m\u001b[0mstacklevel\u001b[0m\u001b[0;34m,\u001b[0m\u001b[0;34m\u001b[0m\u001b[0;34m\u001b[0m\u001b[0m\n\u001b[1;32m    310\u001b[0m                 )\n\u001b[0;32m--> 311\u001b[0;31m             \u001b[0;32mreturn\u001b[0m \u001b[0mfunc\u001b[0m\u001b[0;34m(\u001b[0m\u001b[0;34m*\u001b[0m\u001b[0margs\u001b[0m\u001b[0;34m,\u001b[0m \u001b[0;34m**\u001b[0m\u001b[0mkwargs\u001b[0m\u001b[0;34m)\u001b[0m\u001b[0;34m\u001b[0m\u001b[0;34m\u001b[0m\u001b[0m\n\u001b[0m\u001b[1;32m    312\u001b[0m \u001b[0;34m\u001b[0m\u001b[0m\n\u001b[1;32m    313\u001b[0m         \u001b[0;32mreturn\u001b[0m \u001b[0mwrapper\u001b[0m\u001b[0;34m\u001b[0m\u001b[0;34m\u001b[0m\u001b[0m\n",
      "\u001b[0;32m~/Library/Python/3.8/lib/python/site-packages/pandas/core/frame.py\u001b[0m in \u001b[0;36mdrop\u001b[0;34m(self, labels, axis, index, columns, level, inplace, errors)\u001b[0m\n\u001b[1;32m   4954\u001b[0m                 \u001b[0mweight\u001b[0m  \u001b[0;36m1.0\u001b[0m     \u001b[0;36m0.8\u001b[0m\u001b[0;34m\u001b[0m\u001b[0;34m\u001b[0m\u001b[0m\n\u001b[1;32m   4955\u001b[0m         \"\"\"\n\u001b[0;32m-> 4956\u001b[0;31m         return super().drop(\n\u001b[0m\u001b[1;32m   4957\u001b[0m             \u001b[0mlabels\u001b[0m\u001b[0;34m=\u001b[0m\u001b[0mlabels\u001b[0m\u001b[0;34m,\u001b[0m\u001b[0;34m\u001b[0m\u001b[0;34m\u001b[0m\u001b[0m\n\u001b[1;32m   4958\u001b[0m             \u001b[0maxis\u001b[0m\u001b[0;34m=\u001b[0m\u001b[0maxis\u001b[0m\u001b[0;34m,\u001b[0m\u001b[0;34m\u001b[0m\u001b[0;34m\u001b[0m\u001b[0m\n",
      "\u001b[0;32m~/Library/Python/3.8/lib/python/site-packages/pandas/core/generic.py\u001b[0m in \u001b[0;36mdrop\u001b[0;34m(self, labels, axis, index, columns, level, inplace, errors)\u001b[0m\n\u001b[1;32m   4277\u001b[0m         \u001b[0;32mfor\u001b[0m \u001b[0maxis\u001b[0m\u001b[0;34m,\u001b[0m \u001b[0mlabels\u001b[0m \u001b[0;32min\u001b[0m \u001b[0maxes\u001b[0m\u001b[0;34m.\u001b[0m\u001b[0mitems\u001b[0m\u001b[0;34m(\u001b[0m\u001b[0;34m)\u001b[0m\u001b[0;34m:\u001b[0m\u001b[0;34m\u001b[0m\u001b[0;34m\u001b[0m\u001b[0m\n\u001b[1;32m   4278\u001b[0m             \u001b[0;32mif\u001b[0m \u001b[0mlabels\u001b[0m \u001b[0;32mis\u001b[0m \u001b[0;32mnot\u001b[0m \u001b[0;32mNone\u001b[0m\u001b[0;34m:\u001b[0m\u001b[0;34m\u001b[0m\u001b[0;34m\u001b[0m\u001b[0m\n\u001b[0;32m-> 4279\u001b[0;31m                 \u001b[0mobj\u001b[0m \u001b[0;34m=\u001b[0m \u001b[0mobj\u001b[0m\u001b[0;34m.\u001b[0m\u001b[0m_drop_axis\u001b[0m\u001b[0;34m(\u001b[0m\u001b[0mlabels\u001b[0m\u001b[0;34m,\u001b[0m \u001b[0maxis\u001b[0m\u001b[0;34m,\u001b[0m \u001b[0mlevel\u001b[0m\u001b[0;34m=\u001b[0m\u001b[0mlevel\u001b[0m\u001b[0;34m,\u001b[0m \u001b[0merrors\u001b[0m\u001b[0;34m=\u001b[0m\u001b[0merrors\u001b[0m\u001b[0;34m)\u001b[0m\u001b[0;34m\u001b[0m\u001b[0;34m\u001b[0m\u001b[0m\n\u001b[0m\u001b[1;32m   4280\u001b[0m \u001b[0;34m\u001b[0m\u001b[0m\n\u001b[1;32m   4281\u001b[0m         \u001b[0;32mif\u001b[0m \u001b[0minplace\u001b[0m\u001b[0;34m:\u001b[0m\u001b[0;34m\u001b[0m\u001b[0;34m\u001b[0m\u001b[0m\n",
      "\u001b[0;32m~/Library/Python/3.8/lib/python/site-packages/pandas/core/generic.py\u001b[0m in \u001b[0;36m_drop_axis\u001b[0;34m(self, labels, axis, level, errors, consolidate, only_slice)\u001b[0m\n\u001b[1;32m   4321\u001b[0m                 \u001b[0mnew_axis\u001b[0m \u001b[0;34m=\u001b[0m \u001b[0maxis\u001b[0m\u001b[0;34m.\u001b[0m\u001b[0mdrop\u001b[0m\u001b[0;34m(\u001b[0m\u001b[0mlabels\u001b[0m\u001b[0;34m,\u001b[0m \u001b[0mlevel\u001b[0m\u001b[0;34m=\u001b[0m\u001b[0mlevel\u001b[0m\u001b[0;34m,\u001b[0m \u001b[0merrors\u001b[0m\u001b[0;34m=\u001b[0m\u001b[0merrors\u001b[0m\u001b[0;34m)\u001b[0m\u001b[0;34m\u001b[0m\u001b[0;34m\u001b[0m\u001b[0m\n\u001b[1;32m   4322\u001b[0m             \u001b[0;32melse\u001b[0m\u001b[0;34m:\u001b[0m\u001b[0;34m\u001b[0m\u001b[0;34m\u001b[0m\u001b[0m\n\u001b[0;32m-> 4323\u001b[0;31m                 \u001b[0mnew_axis\u001b[0m \u001b[0;34m=\u001b[0m \u001b[0maxis\u001b[0m\u001b[0;34m.\u001b[0m\u001b[0mdrop\u001b[0m\u001b[0;34m(\u001b[0m\u001b[0mlabels\u001b[0m\u001b[0;34m,\u001b[0m \u001b[0merrors\u001b[0m\u001b[0;34m=\u001b[0m\u001b[0merrors\u001b[0m\u001b[0;34m)\u001b[0m\u001b[0;34m\u001b[0m\u001b[0;34m\u001b[0m\u001b[0m\n\u001b[0m\u001b[1;32m   4324\u001b[0m             \u001b[0mindexer\u001b[0m \u001b[0;34m=\u001b[0m \u001b[0maxis\u001b[0m\u001b[0;34m.\u001b[0m\u001b[0mget_indexer\u001b[0m\u001b[0;34m(\u001b[0m\u001b[0mnew_axis\u001b[0m\u001b[0;34m)\u001b[0m\u001b[0;34m\u001b[0m\u001b[0;34m\u001b[0m\u001b[0m\n\u001b[1;32m   4325\u001b[0m \u001b[0;34m\u001b[0m\u001b[0m\n",
      "\u001b[0;32m~/Library/Python/3.8/lib/python/site-packages/pandas/core/indexes/base.py\u001b[0m in \u001b[0;36mdrop\u001b[0;34m(self, labels, errors)\u001b[0m\n\u001b[1;32m   6642\u001b[0m         \u001b[0;32mif\u001b[0m \u001b[0mmask\u001b[0m\u001b[0;34m.\u001b[0m\u001b[0many\u001b[0m\u001b[0;34m(\u001b[0m\u001b[0;34m)\u001b[0m\u001b[0;34m:\u001b[0m\u001b[0;34m\u001b[0m\u001b[0;34m\u001b[0m\u001b[0m\n\u001b[1;32m   6643\u001b[0m             \u001b[0;32mif\u001b[0m \u001b[0merrors\u001b[0m \u001b[0;34m!=\u001b[0m \u001b[0;34m\"ignore\"\u001b[0m\u001b[0;34m:\u001b[0m\u001b[0;34m\u001b[0m\u001b[0;34m\u001b[0m\u001b[0m\n\u001b[0;32m-> 6644\u001b[0;31m                 \u001b[0;32mraise\u001b[0m \u001b[0mKeyError\u001b[0m\u001b[0;34m(\u001b[0m\u001b[0;34mf\"{list(labels[mask])} not found in axis\"\u001b[0m\u001b[0;34m)\u001b[0m\u001b[0;34m\u001b[0m\u001b[0;34m\u001b[0m\u001b[0m\n\u001b[0m\u001b[1;32m   6645\u001b[0m             \u001b[0mindexer\u001b[0m \u001b[0;34m=\u001b[0m \u001b[0mindexer\u001b[0m\u001b[0;34m[\u001b[0m\u001b[0;34m~\u001b[0m\u001b[0mmask\u001b[0m\u001b[0;34m]\u001b[0m\u001b[0;34m\u001b[0m\u001b[0;34m\u001b[0m\u001b[0m\n\u001b[1;32m   6646\u001b[0m         \u001b[0;32mreturn\u001b[0m \u001b[0mself\u001b[0m\u001b[0;34m.\u001b[0m\u001b[0mdelete\u001b[0m\u001b[0;34m(\u001b[0m\u001b[0mindexer\u001b[0m\u001b[0;34m)\u001b[0m\u001b[0;34m\u001b[0m\u001b[0;34m\u001b[0m\u001b[0m\n",
      "\u001b[0;31mKeyError\u001b[0m: \"['player_fifa_api_id', 'preferred_foot', 'attacking_work_rate', 'defensive_work_rate'] not found in axis\""
     ]
    }
   ],
   "source": [
    "# there are 3 'id' columns in data. \n",
    "# we will use 'player_api_id' only\n",
    "# and drop other 'id' columns.\n",
    "redundant_key_columns = ['id', 'player_fifa_api_id']\n",
    "\n",
    "# also we will drop categorical columns for this task.\n",
    "categorical_columns = ['preferred_foot', 'attacking_work_rate', 'defensive_work_rate']\n",
    "\n",
    "cols_to_drop = redundant_key_columns + categorical_columns\n",
    "print(f'will drop following columns: {cols_to_drop}')\n",
    "df.drop(columns=cols_to_drop, inplace=True)\n",
    "\n",
    "# rename 'player_api_id' column to shorter one: 'id'.\n",
    "df.rename(columns={'player_api_id': 'id'}, inplace=True)\n",
    "\n",
    "# cast string values to datetime\n",
    "df['date'] = pd.to_datetime(df['date'])\n",
    "\n",
    "# drop records that contain only NaNs in features\n",
    "all_features = set(df.columns).difference(['id', 'date'])  # all columns without key columns\n",
    "df.dropna(subset=all_features, how='all', inplace=True)\n",
    "\n",
    "# the dataset we're working with migh get updated in future (new records might be added).\n",
    "# thus we remove any records with date larger than the current max date in data (2016-07-07)\n",
    "# for compatibility with current version of notebook.\n",
    "df.drop(index=df[df['date'] > '2016-07-07'].index, inplace=True)\n",
    "df['data_max'] = df.groupby('id')['date'].transform('max')\n",
    "df = df[df['date'] == df['data_max']]\n"
   ]
  },
  {
   "cell_type": "code",
   "execution_count": 9,
   "id": "2a07e6ac",
   "metadata": {},
   "outputs": [],
   "source": [
    "# df = df.drop(columns=['id','date','data_max'])\n",
    "df = df.dropna()"
   ]
  },
  {
   "cell_type": "code",
   "execution_count": 11,
   "id": "fb31332c",
   "metadata": {},
   "outputs": [
    {
     "ename": "NameError",
     "evalue": "name 'data' is not defined",
     "output_type": "error",
     "traceback": [
      "\u001b[0;31m---------------------------------------------------------------------------\u001b[0m",
      "\u001b[0;31mNameError\u001b[0m                                 Traceback (most recent call last)",
      "\u001b[0;32m/var/folders/wl/27ymcjln6px3tcfww0c_jg5c0000gn/T/ipykernel_42955/2150595626.py\u001b[0m in \u001b[0;36m<module>\u001b[0;34m\u001b[0m\n\u001b[0;32m----> 1\u001b[0;31m \u001b[0mdata_labels\u001b[0m \u001b[0;34m=\u001b[0m \u001b[0mdata\u001b[0m\u001b[0;34m[\u001b[0m\u001b[0;34m'agility'\u001b[0m\u001b[0;34m]\u001b[0m\u001b[0;34m\u001b[0m\u001b[0;34m\u001b[0m\u001b[0m\n\u001b[0m\u001b[1;32m      2\u001b[0m \u001b[0mfs\u001b[0m \u001b[0;34m=\u001b[0m \u001b[0mFeatureSelector\u001b[0m\u001b[0;34m(\u001b[0m\u001b[0mdata\u001b[0m \u001b[0;34m=\u001b[0m \u001b[0mdata\u001b[0m\u001b[0;34m,\u001b[0m \u001b[0mlabels\u001b[0m \u001b[0;34m=\u001b[0m \u001b[0mdata_labels\u001b[0m\u001b[0;34m)\u001b[0m\u001b[0;34m\u001b[0m\u001b[0;34m\u001b[0m\u001b[0m\n",
      "\u001b[0;31mNameError\u001b[0m: name 'data' is not defined"
     ]
    }
   ],
   "source": [
    "data_labels = df['agility']\n",
    "fs = FeatureSelector(data = df, labels = data_labels)"
   ]
  },
  {
   "cell_type": "code",
   "execution_count": 15,
   "id": "47731d2e",
   "metadata": {},
   "outputs": [],
   "source": [
    "target = 'agility'\n",
    "features = df.columns.to_list()\n",
    "features.remove('agility')\n",
    "\n",
    "ix_split = int(0.7 * df.shape[0])\n",
    "DF_TRAIN = df.iloc[:ix_split].copy()\n",
    "DF_TEST = df.iloc[ix_split:].copy()\n",
    "def get_train_test_data(features: List[str], target: str) -> tuple:\n",
    "    \"\"\"\n",
    "    Return x_train, y_train, x_test, y_test using \n",
    "    * global train/test split \n",
    "    * features and target provided.\n",
    "    \"\"\"\n",
    "    # in general, it's a bad practice to use global variables. \n",
    "    # however, we use it here with caution for simplicity.\n",
    "    return (\n",
    "        DF_TRAIN[features].copy(), DF_TRAIN[target].copy(), \n",
    "        DF_TEST[features].copy(), DF_TEST[target].copy()\n",
    "    )\n",
    "\n",
    "x_train, y_train, x_test, y_test = get_train_test_data(features, target)"
   ]
  },
  {
   "cell_type": "code",
   "execution_count": 122,
   "id": "0e17f741",
   "metadata": {},
   "outputs": [
    {
     "data": {
      "image/png": "[encoded data removed]",
      "text/plain": [
       "<Figure size 1440x1440 with 1 Axes>"
      ]
     },
     "metadata": {},
     "output_type": "display_data"
    }
   ],
   "source": [
    "cols = df.columns.to_list()\n",
    "boxplot = df.boxplot(column=cols, figsize=(20,20),rot=90)  \n",
    "# есть выбросы"
   ]
  },
  {
   "cell_type": "code",
   "execution_count": null,
   "id": "122e0735",
   "metadata": {},
   "outputs": [],
   "source": [
    "cols = df.columns.to_list()\n",
    "fig, axes = plt.subplots(nrows=1, ncols=len(cols),figsize=(12, 3))\n",
    "for index, column in enumerate(cols):\n",
    "    sns.boxplot(x=column, y='Sex', data=data, palette=\"pastel\",ax=axes[index])"
   ]
  },
  {
   "cell_type": "code",
   "execution_count": 139,
   "id": "4e8d3b8f",
   "metadata": {},
   "outputs": [
    {
     "data": {
      "text/plain": [
       "['overall_rating',\n",
       " 'potential',\n",
       " 'crossing',\n",
       " 'finishing',\n",
       " 'heading_accuracy',\n",
       " 'short_passing',\n",
       " 'volleys',\n",
       " 'dribbling',\n",
       " 'curve',\n",
       " 'free_kick_accuracy']"
      ]
     },
     "execution_count": 139,
     "metadata": {},
     "output_type": "execute_result"
    }
   ],
   "source": [
    "# z-score\n",
    "# from scipy.stats import zscore\n",
    "# df.apply(zscore)\n",
    "features[:10]"
   ]
  },
  {
   "cell_type": "code",
   "execution_count": 129,
   "id": "72b16624",
   "metadata": {},
   "outputs": [
    {
     "data": {
      "text/plain": [
       "gk_reflexes           2.848197\n",
       "gk_positioning        2.841014\n",
       "gk_kicking            2.840538\n",
       "gk_diving             2.836926\n",
       "gk_handling           2.828371\n",
       "potential             0.246959\n",
       "overall_rating        0.071488\n",
       "free_kick_accuracy   -0.207867\n",
       "marking              -0.215931\n",
       "sliding_tackle       -0.252525\n",
       "reactions            -0.266300\n",
       "interceptions        -0.287506\n",
       "finishing            -0.306629\n",
       "volleys              -0.307153\n",
       "standing_tackle      -0.357907\n",
       "curve                -0.452707\n",
       "balance              -0.471995\n",
       "penalties            -0.482335\n",
       "jumping              -0.544943\n",
       "vision               -0.549797\n",
       "agility              -0.574827\n",
       "strength             -0.610087\n",
       "long_shots           -0.634014\n",
       "acceleration         -0.643745\n",
       "positioning          -0.667740\n",
       "sprint_speed         -0.690486\n",
       "aggression           -0.705682\n",
       "long_passing         -0.748542\n",
       "crossing             -0.816899\n",
       "stamina              -0.896317\n",
       "shot_power           -1.036837\n",
       "heading_accuracy     -1.082486\n",
       "dribbling            -1.094223\n",
       "short_passing        -1.286085\n",
       "ball_control         -1.450594\n",
       "dtype: float64"
      ]
     },
     "execution_count": 129,
     "metadata": {},
     "output_type": "execute_result"
    }
   ],
   "source": [
    "# Skewness асимметрия распределения\n",
    "df.skew(axis=0).sort_values(ascending=False)"
   ]
  },
  {
   "cell_type": "code",
   "execution_count": 132,
   "id": "31be6540",
   "metadata": {},
   "outputs": [],
   "source": [
    "def box_cox(df, lmbda=None, alpha=None):\n",
    "   \n",
    "    df_tr = pd.DataFrame(columns=df.columns)  #initialize empty data frame with same features as df\n",
    "    for val in list(df.columns):\n",
    "        df_tr[val] = stats.boxcox(df[val] - min(df[val]) + 0.1,lmbda, alpha)[0] #populate dataframe with transformed data\n",
    "    return df_tr"
   ]
  },
  {
   "cell_type": "code",
   "execution_count": 134,
   "id": "3e793059",
   "metadata": {},
   "outputs": [
    {
     "data": {
      "text/plain": [
       "overall_rating        0.006372\n",
       "potential            -0.000627\n",
       "reactions            -0.006337\n",
       "jumping              -0.044550\n",
       "strength             -0.060748\n",
       "balance              -0.088395\n",
       "vision               -0.132156\n",
       "agility              -0.132832\n",
       "sprint_speed         -0.135829\n",
       "acceleration         -0.137811\n",
       "stamina              -0.160971\n",
       "gk_kicking           -0.170013\n",
       "free_kick_accuracy   -0.172944\n",
       "penalties            -0.182261\n",
       "gk_handling          -0.203126\n",
       "gk_positioning       -0.217488\n",
       "long_passing         -0.228968\n",
       "gk_diving            -0.233700\n",
       "volleys              -0.238658\n",
       "gk_reflexes          -0.246619\n",
       "finishing            -0.249183\n",
       "short_passing        -0.256545\n",
       "curve                -0.265517\n",
       "aggression           -0.269628\n",
       "marking              -0.283605\n",
       "interceptions        -0.286070\n",
       "sliding_tackle       -0.313482\n",
       "shot_power           -0.321529\n",
       "positioning          -0.353314\n",
       "standing_tackle      -0.362368\n",
       "crossing             -0.364734\n",
       "heading_accuracy     -0.365181\n",
       "long_shots           -0.367977\n",
       "ball_control         -0.377202\n",
       "dribbling            -0.438107\n",
       "dtype: float64"
      ]
     },
     "execution_count": 134,
     "metadata": {},
     "output_type": "execute_result"
    }
   ],
   "source": [
    "# в нормальные распределения\n",
    "from scipy import stats\n",
    "\n",
    "df_tr = box_cox(df)\n",
    "df_tr.skew(axis=0).sort_values(ascending=False)"
   ]
  },
  {
   "cell_type": "markdown",
   "id": "a41098bf",
   "metadata": {},
   "source": [
    "---"
   ]
  },
  {
   "cell_type": "code",
   "execution_count": null,
   "id": "ef0c3adc",
   "metadata": {},
   "outputs": [],
   "source": []
  },
  {
   "cell_type": "code",
   "execution_count": 18,
   "id": "ae9e77ae",
   "metadata": {},
   "outputs": [
    {
     "name": "stdout",
     "output_type": "stream",
     "text": [
      "Feature 0: 0.054509\n",
      "Feature 1: 0.058700\n",
      "Feature 2: 0.225219\n",
      "Feature 3: 0.186177\n",
      "Feature 4: 0.166935\n",
      "Feature 5: 0.171779\n",
      "Feature 6: 0.182672\n",
      "Feature 7: 0.409929\n",
      "Feature 8: 0.234162\n",
      "Feature 9: 0.169171\n",
      "Feature 10: 0.110702\n",
      "Feature 11: 0.279119\n",
      "Feature 12: 0.535337\n",
      "Feature 13: 0.385652\n",
      "Feature 14: 0.036611\n",
      "Feature 15: 0.414066\n",
      "Feature 16: 0.137857\n",
      "Feature 17: 0.039614\n",
      "Feature 18: 0.157449\n",
      "Feature 19: 0.139433\n",
      "Feature 20: 0.174976\n",
      "Feature 21: 0.061211\n",
      "Feature 22: 0.078533\n",
      "Feature 23: 0.256861\n",
      "Feature 24: 0.180785\n",
      "Feature 25: 0.138066\n",
      "Feature 26: 0.098052\n",
      "Feature 27: 0.111240\n",
      "Feature 28: 0.100524\n",
      "Feature 29: 0.094547\n",
      "Feature 30: 0.105512\n",
      "Feature 31: 0.085838\n",
      "Feature 32: 0.092016\n",
      "Feature 33: 0.080128\n"
     ]
    },
    {
     "data": {
      "image/png": "[encoded data removed]",
      "text/plain": [
       "<Figure size 504x432 with 1 Axes>"
      ]
     },
     "metadata": {},
     "output_type": "display_data"
    }
   ],
   "source": [
    "# feature selection\n",
    "def select_features(X_train, y_train, X_test):\n",
    "    # configure to select all features\n",
    "    fs = SelectKBest(score_func=mutual_info_regression, k='all')\n",
    "    # learn relationship from training data\n",
    "    fs.fit(X_train, y_train)\n",
    "    # transform train input data\n",
    "    X_train_fs = fs.transform(X_train)\n",
    "    # transform test input data\n",
    "    X_test_fs = fs.transform(X_test)\n",
    "    return X_train_fs, X_test_fs, fs\n",
    " \n",
    "\n",
    "# feature selection\n",
    "X_train_fs, X_test_fs, fs = select_features(x_train, y_train, x_test)\n",
    "# what are scores for the features\n",
    "for i in range(len(fs.scores_)):\n",
    "\tprint('Feature %d: %f' % (i, fs.scores_[i]))\n",
    "# plot the scores\n",
    "pyplot.bar([i for i in range(len(fs.scores_))], fs.scores_)\n",
    "pyplot.show()"
   ]
  },
  {
   "cell_type": "code",
   "execution_count": 138,
   "id": "ff547fe3",
   "metadata": {},
   "outputs": [
    {
     "data": {
      "text/plain": [
       "acceleration          0.544650\n",
       "dribbling             0.410629\n",
       "balance               0.409334\n",
       "sprint_speed          0.382232\n",
       "ball_control          0.296347\n",
       "positioning           0.256334\n",
       "crossing              0.246608\n",
       "curve                 0.221164\n",
       "long_shots            0.203624\n",
       "finishing             0.198577\n",
       "volleys               0.186826\n",
       "vision                0.170168\n",
       "heading_accuracy      0.165643\n",
       "free_kick_accuracy    0.164278\n",
       "short_passing         0.163340\n",
       "strength              0.146930\n",
       "penalties             0.143074\n",
       "stamina               0.138142\n",
       "shot_power            0.128878\n",
       "standing_tackle       0.128855\n",
       "long_passing          0.119041\n",
       "gk_diving             0.113041\n",
       "sliding_tackle        0.108792\n",
       "gk_reflexes           0.102846\n",
       "marking               0.098007\n",
       "gk_handling           0.095845\n",
       "interceptions         0.094690\n",
       "gk_positioning        0.090724\n",
       "gk_kicking            0.081344\n",
       "aggression            0.072924\n",
       "potential             0.065612\n",
       "overall_rating        0.046862\n",
       "reactions             0.040749\n",
       "jumping               0.023406\n",
       "dtype: float64"
      ]
     },
     "execution_count": 138,
     "metadata": {},
     "output_type": "execute_result"
    }
   ],
   "source": [
    "X = df[features]\n",
    "y = df['agility']\n",
    "\n",
    "mutual_info = mutual_info_regression(X, y)\n",
    "mutual_info = pd.Series(mutual_info)\n",
    "mutual_info.index = X.columns\n",
    "mutual_info.sort_values(ascending=False)\n",
    "\n"
   ]
  },
  {
   "cell_type": "code",
   "execution_count": null,
   "id": "03b7c965",
   "metadata": {},
   "outputs": [],
   "source": []
  },
  {
   "cell_type": "markdown",
   "id": "2a13e441",
   "metadata": {},
   "source": [
    " SelectKBest "
   ]
  },
  {
   "cell_type": "code",
   "execution_count": 28,
   "id": "24eafa45",
   "metadata": {},
   "outputs": [
    {
     "data": {
      "text/plain": [
       "(7407, 20)"
      ]
     },
     "execution_count": 28,
     "metadata": {},
     "output_type": "execute_result"
    }
   ],
   "source": [
    "selector = SelectKBest(f_regression, k=20)\n",
    "X_reduced = selector.fit_transform(x_train, y_train)\n",
    "X_reduced.shape"
   ]
  },
  {
   "cell_type": "code",
   "execution_count": 29,
   "id": "9b6ac90d",
   "metadata": {},
   "outputs": [
    {
     "data": {
      "text/plain": [
       "['crossing',\n",
       " 'finishing',\n",
       " 'short_passing',\n",
       " 'volleys',\n",
       " 'dribbling',\n",
       " 'curve',\n",
       " 'free_kick_accuracy',\n",
       " 'long_passing',\n",
       " 'ball_control',\n",
       " 'acceleration',\n",
       " 'sprint_speed',\n",
       " 'balance',\n",
       " 'shot_power',\n",
       " 'stamina',\n",
       " 'strength',\n",
       " 'long_shots',\n",
       " 'positioning',\n",
       " 'vision',\n",
       " 'penalties',\n",
       " 'gk_positioning']"
      ]
     },
     "execution_count": 29,
     "metadata": {},
     "output_type": "execute_result"
    }
   ],
   "source": [
    "cols_sel = selector.get_support(indices=True)\n",
    "selected_columns = x_train.iloc[:,cols_sel].columns.tolist()\n",
    "selected_columns"
   ]
  },
  {
   "cell_type": "markdown",
   "id": "692afd39",
   "metadata": {},
   "source": [
    "---"
   ]
  },
  {
   "cell_type": "markdown",
   "id": "aa1a90e6",
   "metadata": {},
   "source": [
    "Percentile"
   ]
  },
  {
   "cell_type": "code",
   "execution_count": 37,
   "id": "922d64f3",
   "metadata": {},
   "outputs": [
    {
     "name": "stdout",
     "output_type": "stream",
     "text": [
      "14\n"
     ]
    },
    {
     "data": {
      "text/plain": [
       "['crossing',\n",
       " 'finishing',\n",
       " 'short_passing',\n",
       " 'volleys',\n",
       " 'dribbling',\n",
       " 'curve',\n",
       " 'free_kick_accuracy',\n",
       " 'ball_control',\n",
       " 'acceleration',\n",
       " 'sprint_speed',\n",
       " 'balance',\n",
       " 'long_shots',\n",
       " 'positioning',\n",
       " 'vision']"
      ]
     },
     "execution_count": 37,
     "metadata": {},
     "output_type": "execute_result"
    }
   ],
   "source": [
    "selector = SelectPercentile(f_regression, percentile=40)\n",
    "X_reduced = selector.fit_transform(x_train, y_train)\n",
    "cols_p = selector.get_support(indices=True)\n",
    "selected_columns_p = x_train.iloc[:,cols_p].columns.tolist()\n",
    "print(len(selected_columns_p))\n",
    "selected_columns_p"
   ]
  },
  {
   "cell_type": "markdown",
   "id": "de6161de",
   "metadata": {},
   "source": [
    "---"
   ]
  },
  {
   "cell_type": "markdown",
   "id": "79f15cff",
   "metadata": {},
   "source": [
    "VarianceThreshold"
   ]
  },
  {
   "cell_type": "code",
   "execution_count": 51,
   "id": "19c7546c",
   "metadata": {},
   "outputs": [
    {
     "name": "stdout",
     "output_type": "stream",
     "text": [
      "34\n"
     ]
    },
    {
     "data": {
      "text/plain": [
       "['overall_rating',\n",
       " 'potential',\n",
       " 'crossing',\n",
       " 'finishing',\n",
       " 'heading_accuracy',\n",
       " 'short_passing',\n",
       " 'volleys',\n",
       " 'dribbling',\n",
       " 'curve',\n",
       " 'free_kick_accuracy',\n",
       " 'long_passing',\n",
       " 'ball_control',\n",
       " 'acceleration',\n",
       " 'sprint_speed',\n",
       " 'reactions',\n",
       " 'balance',\n",
       " 'shot_power',\n",
       " 'jumping',\n",
       " 'stamina',\n",
       " 'strength',\n",
       " 'long_shots',\n",
       " 'aggression',\n",
       " 'interceptions',\n",
       " 'positioning',\n",
       " 'vision',\n",
       " 'penalties',\n",
       " 'marking',\n",
       " 'standing_tackle',\n",
       " 'sliding_tackle',\n",
       " 'gk_diving',\n",
       " 'gk_handling',\n",
       " 'gk_kicking',\n",
       " 'gk_positioning',\n",
       " 'gk_reflexes']"
      ]
     },
     "execution_count": 51,
     "metadata": {},
     "output_type": "execute_result"
    }
   ],
   "source": [
    "selector = VarianceThreshold(threshold=0.1)\n",
    "X_reduced = selector.fit_transform(x_train, y_train)\n",
    "cols_v = selector.get_support(indices=True)\n",
    "selected_columns_v = x_train.iloc[:,cols_v].columns.tolist()\n",
    "print(len(selected_columns_v))\n",
    "selected_columns_v"
   ]
  },
  {
   "cell_type": "code",
   "execution_count": 52,
   "id": "b46ce75d",
   "metadata": {},
   "outputs": [],
   "source": [
    "concol = [column for column in x_train.columns \n",
    "          if column not in x_train.columns[selector.get_support()]]\n",
    "\n",
    "for features in concol:\n",
    "    print(features)"
   ]
  },
  {
   "cell_type": "code",
   "execution_count": 50,
   "id": "97b8e214",
   "metadata": {},
   "outputs": [
    {
     "data": {
      "text/plain": [
       "array([ True,  True,  True,  True,  True,  True,  True,  True,  True,\n",
       "        True,  True,  True,  True,  True,  True,  True,  True,  True,\n",
       "        True,  True,  True,  True,  True,  True,  True,  True,  True,\n",
       "        True,  True,  True,  True,  True,  True,  True])"
      ]
     },
     "execution_count": 50,
     "metadata": {},
     "output_type": "execute_result"
    }
   ],
   "source": [
    "selector.get_support()"
   ]
  },
  {
   "cell_type": "markdown",
   "id": "6129629f",
   "metadata": {},
   "source": [
    "---"
   ]
  },
  {
   "cell_type": "markdown",
   "id": "d30359da",
   "metadata": {},
   "source": [
    "SelectKBest"
   ]
  },
  {
   "cell_type": "code",
   "execution_count": 80,
   "id": "630c31d2",
   "metadata": {},
   "outputs": [
    {
     "name": "stdout",
     "output_type": "stream",
     "text": [
      "[(False, 'overall_rating'), (False, 'potential'), (True, 'crossing'), (True, 'finishing'), (False, 'heading_accuracy'), (False, 'short_passing'), (False, 'volleys'), (True, 'dribbling'), (True, 'curve'), (False, 'free_kick_accuracy'), (False, 'long_passing'), (True, 'ball_control'), (True, 'acceleration'), (True, 'sprint_speed'), (False, 'reactions'), (True, 'balance'), (False, 'shot_power'), (False, 'jumping'), (False, 'stamina'), (False, 'strength'), (True, 'long_shots'), (False, 'aggression'), (False, 'interceptions'), (True, 'positioning'), (False, 'vision'), (False, 'penalties'), (False, 'marking'), (False, 'standing_tackle'), (False, 'sliding_tackle'), (False, 'gk_diving'), (False, 'gk_handling'), (False, 'gk_kicking'), (False, 'gk_positioning'), (False, 'gk_reflexes')]\n"
     ]
    }
   ],
   "source": [
    "selector = SelectKBest(score_func=f_regression, k=10)\n",
    "x_reduced = selector.fit_transform(x_train, y_train)\n",
    "res = list(zip(selector.get_support(),features))\n",
    "print(res)"
   ]
  },
  {
   "cell_type": "code",
   "execution_count": 73,
   "id": "130303b6",
   "metadata": {},
   "outputs": [
    {
     "name": "stderr",
     "output_type": "stream",
     "text": [
      "/var/folders/wl/27ymcjln6px3tcfww0c_jg5c0000gn/T/ipykernel_42955/3095715423.py:2: DeprecationWarning: elementwise comparison failed; this will raise an error in the future.\n",
      "  if (x_reduced_test == x_reduced): print ('hi')\n"
     ]
    }
   ],
   "source": [
    "x_reduced_test = selector.fit_transform(x_test, y_test)\n"
   ]
  },
  {
   "cell_type": "markdown",
   "id": "d1c31d15",
   "metadata": {},
   "source": [
    "---"
   ]
  },
  {
   "cell_type": "markdown",
   "id": "f0c1375b",
   "metadata": {},
   "source": [
    "Transform"
   ]
  },
  {
   "cell_type": "code",
   "execution_count": 135,
   "id": "1ad59059",
   "metadata": {},
   "outputs": [],
   "source": [
    "from scipy import stats\n",
    "\n",
    "target = 'agility'\n",
    "features = df.columns.to_list()\n",
    "features.remove('agility')\n",
    "\n",
    "def get_train_test_df(features: List[str], target: str, df) -> tuple:\n",
    "    \"\"\"\n",
    "    Return x_train, y_train, x_test, y_test using \n",
    "    * global train/test split \n",
    "    * features and target provided.\n",
    "    \"\"\"\n",
    "    # in general, it's a bad practice to use global variables. \n",
    "    # however, we use it here with caution for simplicity.\n",
    "    return (\n",
    "        df[features].copy(), df[target].copy(), \n",
    "        df[features].copy(), df[target].copy()\n",
    "    )\n",
    "\n",
    "def box_cox(df, lmbda=None, alpha=None):\n",
    "   \n",
    "    df_tr = pd.DataFrame(columns=df.columns)  #initialize empty data frame with same features as df\n",
    "    for val in list(df.columns):\n",
    "        df_tr[val] = stats.boxcox(df[val] - min(df[val]) + 0.1,lmbda, alpha)[0] #populate dataframe with transformed data\n",
    "    return df_tr\n",
    "\n",
    "\n",
    "df_tr = box_cox(df)\n",
    "x_train, y_train, x_test, y_test = get_train_test_df(features, target, df_tr)"
   ]
  },
  {
   "cell_type": "code",
   "execution_count": 136,
   "id": "95f30560",
   "metadata": {},
   "outputs": [
    {
     "data": {
      "text/plain": [
       "array([False, False,  True,  True, False,  True,  True,  True,  True,\n",
       "        True, False,  True,  True,  True, False,  True, False, False,\n",
       "        True, False,  True, False, False,  True,  True, False, False,\n",
       "       False, False, False, False, False, False, False])"
      ]
     },
     "execution_count": 136,
     "metadata": {},
     "output_type": "execute_result"
    }
   ],
   "source": [
    "selector = SelectKBest(score_func=f_regression, k=15)\n",
    "X_reduced_t = selector.fit_transform(x_train, y_train)\n",
    "# print(features_list[selector.get_support()])\n",
    "\n",
    "cols_skb = selector.get_support(indices=True)\n",
    "\n",
    "selector.get_support()"
   ]
  },
  {
   "cell_type": "code",
   "execution_count": 137,
   "id": "36614b02",
   "metadata": {},
   "outputs": [
    {
     "data": {
      "text/plain": [
       "array(['crossing', 'finishing', 'short_passing', 'volleys', 'dribbling',\n",
       "       'curve', 'free_kick_accuracy', 'ball_control', 'acceleration',\n",
       "       'sprint_speed', 'balance', 'stamina', 'long_shots', 'positioning',\n",
       "       'vision'], dtype=object)"
      ]
     },
     "execution_count": 137,
     "metadata": {},
     "output_type": "execute_result"
    }
   ],
   "source": [
    "df[features].columns.values[selector.get_support()]"
   ]
  },
  {
   "cell_type": "code",
   "execution_count": null,
   "id": "76e61cbc",
   "metadata": {},
   "outputs": [],
   "source": [
    "from sklearn.linear_model import LinearRegression, Ridge\n",
    "\n",
    "#===========================================================================\n",
    "# perform a scikit-learn Recursive Feature Elimination (RFE)\n",
    "#===========================================================================\n",
    "from sklearn.feature_selection import RFE\n",
    "# here we want only one final feature, we do this to produce a ranking\n",
    "model = LinearRegression(fit_intercept=True)rfe = RFE(model)\n",
    "rfe.fit(X_train, y_train)\n",
    "\n",
    "#===========================================================================\n",
    "# now print out the features in order of ranking\n",
    "#===========================================================================\n",
    "from operator import itemgetter\n",
    "features = X_train.columns.to_list()\n",
    "for x, y in (sorted(zip(rfe.ranking_ , features), key=itemgetter(0))):\n",
    "    print(x, y)\n",
    "\n",
    "#===========================================================================\n",
    "# ok, this time let's choose the top 10 featues and use them for the model\n",
    "#===========================================================================\n",
    "n_features_to_select = 10\n",
    "rfe = RFE(regressor, n_features_to_select=n_features_to_select)\n",
    "rfe.fit(X_train, y_train)\n",
    "\n",
    "#===========================================================================\n",
    "# use the model to predict the prices for the test data\n",
    "#===========================================================================\n",
    "predictions = rfe.predict(X_test)\n",
    "\n",
    "#===========================================================================\n",
    "# write out CSV submission file\n",
    "#===========================================================================\n",
    "output = pd.DataFrame({\"Id\":test_data.index, target:predictions})\n",
    "output.to_csv('submission.csv', index=False)"
   ]
  },
  {
   "cell_type": "code",
   "execution_count": null,
   "id": "417d5af5",
   "metadata": {},
   "outputs": [],
   "source": []
  },
  {
   "cell_type": "code",
   "execution_count": null,
   "id": "a55fca49",
   "metadata": {},
   "outputs": [],
   "source": []
  }
 ],
 "metadata": {
  "kernelspec": {
   "display_name": "Python 3 (ipykernel)",
   "language": "python",
   "name": "python3"
  },
  "language_info": {
   "codemirror_mode": {
    "name": "ipython",
    "version": 3
   },
   "file_extension": ".py",
   "mimetype": "text/x-python",
   "name": "python",
   "nbconvert_exporter": "python",
   "pygments_lexer": "ipython3",
   "version": "3.8.9"
  }
 },
 "nbformat": 4,
 "nbformat_minor": 5
}
